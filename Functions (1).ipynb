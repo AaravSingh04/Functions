{
  "nbformat": 4,
  "nbformat_minor": 0,
  "metadata": {
    "colab": {
      "provenance": []
    },
    "kernelspec": {
      "name": "python3",
      "display_name": "Python 3"
    },
    "language_info": {
      "name": "python"
    }
  },
  "cells": [
    {
      "cell_type": "markdown",
      "source": [
        "#  Functions Assignment"
      ],
      "metadata": {
        "id": "PpvVukBtgDBd"
      }
    },
    {
      "cell_type": "markdown",
      "source": [
        "\n",
        "\n",
        "1.   What is the difference between a function and a method in Python?\n",
        " - A function is a block of code that is defined using the def keyword and can be called independently.\n",
        "Functions are not tied to any particular object.Functions are called directly by their name: function_name().\n",
        "- Example -\n",
        "      def add(a, b):\n",
        "          return a + b\n",
        "      result(5+4)\n",
        "      print(result)\n",
        " - A method is a function that is associated with an object, often an instance of a class.\n",
        "Methods are defined inside a class and are called on an instance of that class.\n",
        "Methods typically operate on the data within the object they are associated with and may modify the state of that object.\n",
        "- Example -\n",
        "       class Calculator:\n",
        "          def add(self, a, b):\n",
        "             return a + b\n",
        "       calc = Calculator()\n",
        "       result = calc.add(5, 3)\n",
        "       print(result)\n",
        "\n",
        "2.  Explain the concept of function arguments and parameters in Python.\n",
        " - Function arguments refer to the values or data we provide to a function when we call it. These values are assigned to the function's parameters so the function can use them to perform its task.\n",
        "  -  Function parameters are the variables that we define inside the parentheses in the function's declaration. These parameters act as placeholders for the values that will be passed to the function when it is called.\n",
        "- Example -\n",
        "      def add_numbers(a, b):  # a and b are function parameters\n",
        "         return a + b\n",
        "      result = add_numbers(5, 7)  # 5 and 7 are arguments\n",
        "      print(result)\n",
        "      \n",
        "3.  What are the different ways to define and call a function in Python?\n",
        " - There are different ways to define and call functions, depending on how you want to structure your code and how flexible the function should be:\n",
        "- 1. Defining and Calling a Simple Function -\n",
        "The most basic way to define and call a function is by using the def keyword.   \n",
        "       \n",
        "         def greet(name):\n",
        "            print(f\"Hello, {name}!\")\n",
        "         greet(\"Alice\")  \n",
        "- 2. Function with Parameters and Return Value -\n",
        "We can define a function that takes parameters and returns a value.\n",
        "-3. Function with Default Parameters -\n",
        "Functions can have default values for parameters. If the caller doesn’t provide a value for those parameters, the default is used.\n",
        "-4. Calling a Function with Keyword Arguments -\n",
        "When calling a function, you can pass arguments by explicitly naming them, which allows you to pass arguments in any order.\n",
        "-5. Function with Variable-Length Arguments (*args and **kwargs) - We can define functions that accept a variable number of arguments using *args (for positional arguments) and **kwargs (for keyword arguments).\\\n",
        "-6. Lambda Functions (Anonymous Functions) -\n",
        "Lambda functions are small anonymous functions defined with the lambda keyword. They can take any number of arguments but only have one expression.\n",
        "-7. Function with No Parameters (Empty Function) -\n",
        "You can define a function that doesn't take any parameters, simply performing an action when called.\n",
        "-8. Recursive Function -\n",
        "A function that calls itself is called a recursive function. This is useful for problems that can be broken down into smaller, similar problems (like calculating factorials).\n",
        "\n",
        "4.  What is the purpose of the `return` statement in a Python function?\n",
        " - The purpose of the return statement in a Python function is to send a result or value back from the function to the place where the function was called. It allows the function to output a result after performing some operations or calculations, enabling further use of that result in the rest of the program.\n",
        "          def add(a, b):\n",
        "            result = a + b\n",
        "            return result\n",
        "          sum_result = add(5, 3)\n",
        "          print(sum_result)\n",
        "          \n",
        "           # Output: 8\n",
        "5.  What are iterators in Python and how do they differ from iterables?\n",
        " - An iterator in Python is an object that allows us to traverse through a collection of items, such as a list, tuple, or string, one element at a time. It does this by implementing two key methods: __iter__() and __next__().           \n",
        "- Iterable: An iterable is any Python object that can return an iterator. It supports the __iter__() method.\n",
        "\n",
        "- Iterator: An iterator is an object that keeps track of its current state during iteration and implements both __iter__() and __next__() methods.\n",
        "- Example -\n",
        "       # List is an iterable\n",
        "       my_list = [1, 2, 3]\n",
        "\n",
        "       # Convert it to an iterator using iter()\n",
        "       iterator = iter(my_list)\n",
        "\n",
        "       # Using the iterator to fetch elements one by one\n",
        "       print(next(iterator))  # Output: 1\n",
        "       print(next(iterator))  # Output: 2\n",
        "       print(next(iterator))  # Output: 3\n",
        "6. Explain the concept of generators in Python and how they are defined.\n",
        " - Generators are a simple way to create iterators using functions and the yield keyword instead of returning values.\n",
        "- Key Concepts of Generators:\n",
        "- 1. yield: Instead of returning a value with the return statement, a generator function uses the yield keyword to produce a value. This allows the function to pause its state and resume when the next value is requested.\n",
        "- 2. Memory Efficiency: Generators are lazy; they generate values one by one as needed, so they don’t require storing all values in memory at once. This makes them more efficient for large datasets.\n",
        "-3. Stateful: Generators maintain their state between each call, so they can resume execution from where they left off.  \n",
        "- Generators are defined using functions with the yield.\n",
        "           \n",
        "           def count_up_to(limit):\n",
        "              count = 1\n",
        "              while count <= limit:\n",
        "           yield count  # Generate the current value and pause here\n",
        "           count += 1\n",
        "\n",
        "           # Creating a generator object\n",
        "           counter = count_up_to(3)\n",
        "\n",
        "           # Using the generator with next()\n",
        "           print(next(counter))  # Output: 1\n",
        "           print(next(counter))  # Output: 2\n",
        "           print(next(counter))  # Output: 3\n",
        "7.  What are the advantages of using generators over regular functions?\n",
        " - Generators offer several significant advantages over regular functions (those that return values with return), especially in terms of memory efficiency, performance, and flexibility.\n",
        "- 1. Memory Efficiency (Lazy Evaluation) -  One of the primary advantages of generators is that they are memory efficient.\n",
        "- 2. Performance Efficiency (Lazy Evaluation) -\n",
        "Generators allow lazy evaluation, meaning they evaluate each item only when it is needed. This can be more performance efficient when you only need to process part of a sequence.\n",
        "- 3. Handling Infinite Sequences -\n",
        "Generators are ideal for representing infinite sequences. Regular functions cannot return infinite sequences, as they would try to generate and store the entire sequence in memory.\n",
        "- 4. Simpler Code for Iterators -\n",
        "Creating custom iterators using generators can be much simpler and more readable than using regular classes with __iter__() and __next__() methods.\n",
        "- 5. Avoiding the Need to Load Large Data Sets -\n",
        "When working with large datasets (e.g., reading from a file, or processing big databases), generators allow you to process each data item one at a time without loading everything into memory at once.\n",
        "- 6. Enhanced Readability and Clean Code -\n",
        "Generators simplify the code, making it more readable. For example, a generator is easier to understand than using a list comprehension or manually managing the state of an iterator.     \n",
        "\n",
        "8. What is a lambda function in Python and when is it typically used?\n",
        " -  Lambda functions are small, anonymous functions defined using the lambda keyword.\n",
        "- They are used for creating small, throwaway functions without the need to formally define a function using def.\n",
        "            square =  lamba x: x*x\n",
        "            print(square(5))\n",
        "              \n",
        "              #output- 25\n",
        "9.  Explain the purpose and usage of the `map()` function in Python.\n",
        " - The map function applies a given function to all items in an input iterable (like a list) and returns an iterator with the results.\n",
        "- Used to transform each item in an iterable by applying the specified function.\n",
        "           numbers = [1, 2, 3, 4]\n",
        "\n",
        "           # Using map with a lambda function to square each number\n",
        "           squared_numbers = list(map(lambda x: x * x, numbers))\n",
        "\n",
        "           print(squared_numbers)  \n",
        "            \n",
        "               # Output: [1, 4, 9, 16]\n",
        "10. What is the difference between `map()`, `reduce()`, and `filter()` functions in Python?\n",
        " - In Python, map(), reduce(), and filter() are functional programming tools used to operate on iterables, such as lists, and transform or filter their elements in various ways.  \n",
        "- The map function applies a given function to all items in an input iterable (like a list) and returns an iterator with the results.\n",
        "- Transformation: Used to transform each item in an iterable by applying the specified function.\n",
        "              numbers = [1, 2, 3, 4]\n",
        "              result = map(lambda x: x ** 2, numbers)\n",
        "              print(list(result))\n",
        "                 \n",
        "                   # Output: [1, 4, 9, 16]\n",
        "\n",
        "  \n",
        "- The reduce function from the functools module applies a given function cumulatively to the items of a sequence, from left to right, to reduce the sequence to a single value.\n",
        "\n",
        "- Cumulative Operation: It reduces an iterable to a single cumulative value by applying the function cumulatively.    \n",
        "            from functools import reduce\n",
        "            numbers = [1, 2, 3, 4]\n",
        "            result = reduce(lambda x, y: x + y, numbers)\n",
        "            print(result)\n",
        "            \n",
        "                   # Output: 10 (1 + 2 + 3 + 4)\n",
        "- The filter function constructs an iterator from elements of an iterable for which a specified function returns True.\n",
        "- Selection: Used for filtering elements from an iterable based on a condition defined by the function.\n",
        "             numbers = [1, 2, 3, 4, 5, 6]\n",
        "             result = filter(lambda x: x % 2 == 0, numbers)\n",
        "             print(list(result))\n",
        "                 \n",
        "                  # Output: [2, 4, 6]\n",
        "11.  Using pen & Paper write the internal mechanism for sum operation using  reduce function on this given list:[47,11,42,13];\n",
        " -                   \n",
        "                  \n",
        "      \n",
        "               \n",
        "     \n",
        "\n",
        "\n",
        "\n",
        "\n"
      ],
      "metadata": {
        "id": "DI2c04JsgLoU"
      }
    },
    {
      "cell_type": "code",
      "source": [
        "#1 Write a Python function that takes a list of numbers as input and returns the sum of all even numbers in the list.\n",
        "\n",
        "def sum_of_even_numbers(numbers):\n",
        "    even_numbers = filter(lambda x: x % 2 == 0, numbers)\n",
        "    return sum(even_numbers)\n",
        "numbers = [47, 11, 42, 13, 8, 18]\n",
        "result = sum_of_even_numbers(numbers)\n",
        "print(result)\n",
        "\n",
        "\n"
      ],
      "metadata": {
        "colab": {
          "base_uri": "https://localhost:8080/"
        },
        "id": "LkhsmdOBR4Rn",
        "outputId": "a8fe8b02-c3c3-4fa6-f573-74ea171a384f"
      },
      "execution_count": 3,
      "outputs": [
        {
          "output_type": "stream",
          "name": "stdout",
          "text": [
            "68\n"
          ]
        }
      ]
    },
    {
      "cell_type": "code",
      "source": [
        "#2 Create a Python function that accepts a string and returns the reverse of that string.\n",
        "\n",
        "def reverse_string(s):\n",
        "    return s[::-1]\n",
        "input_string = \"hello\"\n",
        "print(reverse_string(input_string))\n"
      ],
      "metadata": {
        "colab": {
          "base_uri": "https://localhost:8080/"
        },
        "id": "1GxgxkmRTrdD",
        "outputId": "0133cff3-9e20-4577-93f6-1a5ae0c5cf7a"
      },
      "execution_count": 4,
      "outputs": [
        {
          "output_type": "stream",
          "name": "stdout",
          "text": [
            "olleh\n"
          ]
        }
      ]
    },
    {
      "cell_type": "code",
      "source": [
        "#3  Implement a Python function that takes a list of integers and returns a new list containing the squares of each number.\n",
        "\n",
        "def square_numbers(numbers):\n",
        "    return [x ** 2 for x in numbers]\n",
        "numbers = [1, 2, 3, 4, 5]\n",
        "print(square_numbers(numbers))\n"
      ],
      "metadata": {
        "colab": {
          "base_uri": "https://localhost:8080/"
        },
        "id": "7IdOq_w8T9ql",
        "outputId": "027675ea-ce97-41cc-9d07-bf9d99adb6f6"
      },
      "execution_count": 5,
      "outputs": [
        {
          "output_type": "stream",
          "name": "stdout",
          "text": [
            "[1, 4, 9, 16, 25]\n"
          ]
        }
      ]
    },
    {
      "cell_type": "code",
      "source": [
        "#4  Write a Python function that checks if a given number is prime or not from 1 to 200.\n",
        "\n",
        "def is_prime(n):\n",
        "    if n <= 1:\n",
        "        return False\n",
        "    for i in range(2, int(n**0.5) + 1):\n",
        "        if n % i == 0:\n",
        "            return False\n",
        "    return True\n",
        "\n",
        "number = int(input(\"Enter a number between 1 and 200: \"))\n",
        "if 1 <= number <= 200:\n",
        "    if is_prime(number):\n",
        "        print(f\"{number} is a prime number.\")\n",
        "    else:\n",
        "        print(f\"{number} is not a prime number.\")\n",
        "else:\n",
        "    print(\"Please enter a number between 1 and 200.\")\n"
      ],
      "metadata": {
        "colab": {
          "base_uri": "https://localhost:8080/"
        },
        "id": "2BD97WaEUQRr",
        "outputId": "43a7cdfd-d277-4504-f45e-242d81031e3e"
      },
      "execution_count": 6,
      "outputs": [
        {
          "output_type": "stream",
          "name": "stdout",
          "text": [
            "Enter a number between 1 and 200: 65\n",
            "65 is not a prime number.\n"
          ]
        }
      ]
    },
    {
      "cell_type": "code",
      "source": [
        "#5 Create an iterator class in Python that generates the Fibonacci sequence up to a specified number of terms.\n",
        "\n",
        "class FibonacciIterator:\n",
        "    def __init__(self, terms):\n",
        "        self.terms = terms\n",
        "        self.count = 0\n",
        "        self.a, self.b = 0, 1\n",
        "\n",
        "    def __iter__(self):\n",
        "        return self\n",
        "\n",
        "    def __next__(self):\n",
        "        if self.count < self.terms:\n",
        "            fib_num = self.a\n",
        "            self.a, self.b = self.b, self.a + self.b\n",
        "            self.count += 1\n",
        "            return fib_num\n",
        "        else:\n",
        "            raise StopIteration\n",
        "\n",
        "\n",
        "terms = int(input(\"Enter the number of Fibonacci terms to generate: \"))\n",
        "fib_iter = FibonacciIterator(terms)\n",
        "\n",
        "for num in fib_iter:\n",
        "    print(num)\n"
      ],
      "metadata": {
        "colab": {
          "base_uri": "https://localhost:8080/"
        },
        "id": "IeiufJTDUvZU",
        "outputId": "9116b246-fad8-4eb0-a484-b5e22b5dfd43"
      },
      "execution_count": 7,
      "outputs": [
        {
          "output_type": "stream",
          "name": "stdout",
          "text": [
            "Enter the number of Fibonacci terms to generate: 9\n",
            "0\n",
            "1\n",
            "1\n",
            "2\n",
            "3\n",
            "5\n",
            "8\n",
            "13\n",
            "21\n"
          ]
        }
      ]
    },
    {
      "cell_type": "code",
      "source": [
        "#6 Write a generator function in Python that yields the powers of 2 up to a given exponent.\n",
        "\n",
        "def powers_of_2(exponent):\n",
        "    for i in range(exponent + 1):\n",
        "        yield 2 ** i\n",
        "exponent = int(input(\"Enter the exponent: \"))\n",
        "for power in powers_of_2(exponent):\n",
        "    print(power)\n"
      ],
      "metadata": {
        "colab": {
          "base_uri": "https://localhost:8080/"
        },
        "id": "7Qh0BEybVbgd",
        "outputId": "2f919a8f-99af-4336-db79-065aec259c8a"
      },
      "execution_count": 9,
      "outputs": [
        {
          "output_type": "stream",
          "name": "stdout",
          "text": [
            "Enter the exponent: 6\n",
            "1\n",
            "2\n",
            "4\n",
            "8\n",
            "16\n",
            "32\n",
            "64\n"
          ]
        }
      ]
    },
    {
      "cell_type": "code",
      "source": [
        "#7  Implement a generator function that reads a file line by line and yields each line as a string.\n",
        "\n",
        "\n",
        "file_path = \"example.txt\"\n",
        "file_content = \"\"\"Hello, World!\n",
        "This is a test file.\n",
        "It has multiple lines.\n",
        "\"\"\"\n",
        "\n",
        "with open(file_path, \"w\") as file:\n",
        "    file.write(file_content)\n",
        "\n",
        "\n",
        "def read_file_line_by_line(file_path):\n",
        "\n",
        "    with open(file_path, 'r') as file:\n",
        "        for line in file:\n",
        "            yield line.strip()\n",
        "\n",
        "for line in read_file_line_by_line(file_path):\n",
        "    print(line)\n",
        "\n",
        "\n",
        "\n",
        "\n",
        "\n",
        "\n"
      ],
      "metadata": {
        "colab": {
          "base_uri": "https://localhost:8080/"
        },
        "id": "TVKwTRvcVrR7",
        "outputId": "6bd56a32-ca66-4084-a2a9-59a83fcfdc85"
      },
      "execution_count": 23,
      "outputs": [
        {
          "output_type": "stream",
          "name": "stdout",
          "text": [
            "Hello, World!\n",
            "This is a test file.\n",
            "It has multiple lines.\n"
          ]
        }
      ]
    },
    {
      "cell_type": "code",
      "source": [
        "#8  Use a lambda function in Python to sort a list of tuples based on the second element of each tuple.\n",
        "\n",
        "tuples = [(1, 5), (3, 2), (4, 4), (2, 3)]\n",
        "sorted_tuples = sorted(tuples, key=lambda x: x[1])\n",
        "print(sorted_tuples)\n"
      ],
      "metadata": {
        "colab": {
          "base_uri": "https://localhost:8080/"
        },
        "id": "1kv0o7UAXNcl",
        "outputId": "3eeacfb0-3d98-4d48-b229-4678fc005dd3"
      },
      "execution_count": 15,
      "outputs": [
        {
          "output_type": "stream",
          "name": "stdout",
          "text": [
            "[(3, 2), (2, 3), (4, 4), (1, 5)]\n"
          ]
        }
      ]
    },
    {
      "cell_type": "code",
      "source": [
        "#9  Write a Python program that uses `map()` to convert a list of temperatures from Celsius to Fahrenheit.\n",
        "\n",
        "\n",
        "celsius_temperatures = [0, 20, 37, 100]\n",
        "def celsius_to_fahrenheit(celsius):\n",
        "    return (celsius * 9/5) + 32\n",
        "fahrenheit_temperatures = list(map(celsius_to_fahrenheit, celsius_temperatures))\n",
        "print(fahrenheit_temperatures)\n"
      ],
      "metadata": {
        "colab": {
          "base_uri": "https://localhost:8080/"
        },
        "id": "oI4OuEFNXdoN",
        "outputId": "536a3e45-8b07-4fda-d621-f8b25e5027c3"
      },
      "execution_count": 16,
      "outputs": [
        {
          "output_type": "stream",
          "name": "stdout",
          "text": [
            "[32.0, 68.0, 98.6, 212.0]\n"
          ]
        }
      ]
    },
    {
      "cell_type": "code",
      "source": [
        "#10  Create a Python program that uses `filter()` to remove all the vowels from a given string.\n",
        "\n",
        "\n",
        "def is_not_vowel(char):\n",
        "    return char.lower() not in 'aeiou'\n",
        "input_string = \"Hello World\"\n",
        "filtered_string = ''.join(filter(is_not_vowel, input_string))\n",
        "print(filtered_string)\n"
      ],
      "metadata": {
        "colab": {
          "base_uri": "https://localhost:8080/"
        },
        "id": "KjxLMBkeXuOm",
        "outputId": "0e9494c0-27f7-48d4-9c1b-c582e87064c5"
      },
      "execution_count": 17,
      "outputs": [
        {
          "output_type": "stream",
          "name": "stdout",
          "text": [
            "Hll Wrld\n"
          ]
        }
      ]
    },
    {
      "cell_type": "code",
      "source": [
        "'''\n",
        " 11. Imagine an accounting routine used in a book shop. It works on a list with sublists, which look like this:\n",
        "\n",
        " Ordernumber         Book title and Author                  Quantity       Price per unit\n",
        "   34587          Learning Python, Mark Lutz                 4                  40.95\n",
        "   98762          Programming Python, Mark Lutz              5                  56.80\n",
        "   77226          Head First Python, Paul Barry              3                  32.95\n",
        "   88112          Einführung in Python3, Bernd Klein         3                  24.99\n",
        "Write a Python program, which returns a list with 2-tuples. Each tuple consists of the order number and the\n",
        "product of the price per item and the quantity. The product should be increased by 10,- € if the value of the\n",
        "order is smaller than 100,00 €.\n",
        " Write a Python program using lambda and map.\n",
        "'''\n",
        "\n",
        "orders = [\n",
        "    [34587, \"Learning Python, Mark Lutz\", 4, 40.95],\n",
        "    [98762, \"Programming Python, Mark Lutz\", 5, 56.80],\n",
        "    [77226, \"Head First Python, Paul Barry\", 3, 32.95],\n",
        "    [88112, \"Einführung in Python3, Bernd Klein\", 3, 24.99]\n",
        "]\n",
        "\n",
        "\n",
        "result = list(map(\n",
        "    lambda order: (\n",
        "        order[0],\n",
        "        order[2] * order[3] + (10 if order[2] * order[3] < 100 else 0)\n",
        "    ),\n",
        "    orders\n",
        "))\n",
        "\n",
        "\n",
        "print(result)\n"
      ],
      "metadata": {
        "colab": {
          "base_uri": "https://localhost:8080/"
        },
        "id": "KaBuMTtTaK2q",
        "outputId": "1a1f3ed5-6703-4270-cd75-70eef7b1fc97"
      },
      "execution_count": 19,
      "outputs": [
        {
          "output_type": "stream",
          "name": "stdout",
          "text": [
            "[(34587, 163.8), (98762, 284.0), (77226, 108.85000000000001), (88112, 84.97)]\n"
          ]
        }
      ]
    }
  ]
}